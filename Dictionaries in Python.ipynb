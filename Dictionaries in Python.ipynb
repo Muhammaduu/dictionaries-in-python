{
 "cells": [
  {
   "cell_type": "markdown",
   "id": "10606ec2",
   "metadata": {},
   "source": [
    "# DICTIONARIES \n",
    "## M.Abdirisak.A\n",
    "## 29/05/2024"
   ]
  },
  {
   "cell_type": "markdown",
   "id": "e2b0087d",
   "metadata": {},
   "source": [
    "Dictionaries are data structures that allows to store data in key:values, You can create a dictionary by enclosing a comma-separated(,) list of key-value pairs in curly braces {}. \n",
    "Each key-value pair is separated by a colon (:)"
   ]
  },
  {
   "cell_type": "markdown",
   "id": "850659df",
   "metadata": {},
   "source": [
    "CREATING DICTIONARIES"
   ]
  },
  {
   "cell_type": "code",
   "execution_count": 1,
   "id": "1ae3fea7",
   "metadata": {
    "scrolled": true
   },
   "outputs": [
    {
     "name": "stdout",
     "output_type": "stream",
     "text": [
      "{'NAME': 'MAIN.J', 'AGE': 22, 'UNIVERSITY': 'MKU', 'COURSE': 'BSS'}\n"
     ]
    }
   ],
   "source": [
    "# example 1\n",
    "# keys; name,age,university and course while values the names of person his age, university they attended and course they took\n",
    "dic={\n",
    "    'NAME':'MAIN.J',\n",
    "    'AGE':22,\n",
    "    'UNIVERSITY':'MKU',\n",
    "    'COURSE':'BSS'\n",
    "}\n",
    "print(dic)"
   ]
  },
  {
   "cell_type": "code",
   "execution_count": 2,
   "id": "6b06b822",
   "metadata": {
    "scrolled": true
   },
   "outputs": [
    {
     "name": "stdout",
     "output_type": "stream",
     "text": [
      "22\n"
     ]
    }
   ],
   "source": [
    "# accesing values in a dictionary e.g age\n",
    "print(dic['AGE'])"
   ]
  },
  {
   "cell_type": "code",
   "execution_count": 3,
   "id": "966f3039",
   "metadata": {
    "scrolled": true
   },
   "outputs": [
    {
     "name": "stdout",
     "output_type": "stream",
     "text": [
      "BEDA\n"
     ]
    }
   ],
   "source": [
    "# modifying values in the dictionary e.g course \n",
    "dic['COURSE']='BEDA'\n",
    "print(dic['COURSE'])\n"
   ]
  },
  {
   "cell_type": "code",
   "execution_count": 4,
   "id": "53b56ead",
   "metadata": {},
   "outputs": [
    {
     "name": "stdout",
     "output_type": "stream",
     "text": [
      "{'NAME': 'MAIN.J', 'AGE': 22, 'UNIVERSITY': 'MKU', 'COURSE': 'BSS', 'EMAIL': 'Main34@gmail.com'}\n"
     ]
    }
   ],
   "source": [
    "# adding key-values in dictionary\n",
    "dic={\n",
    "    'NAME':'MAIN.J',\n",
    "    'AGE':22,\n",
    "    'UNIVERSITY':'MKU',\n",
    "    'COURSE':'BSS'\n",
    "}\n",
    "dic['EMAIL']='Main34@gmail.com'\n",
    "print(dic)"
   ]
  },
  {
   "cell_type": "markdown",
   "id": "0374e399",
   "metadata": {},
   "source": [
    "ACCESSING ITEMS IN DICTIONARY"
   ]
  },
  {
   "cell_type": "code",
   "execution_count": 5,
   "id": "504b3395",
   "metadata": {},
   "outputs": [
    {
     "name": "stdout",
     "output_type": "stream",
     "text": [
      "MKU\n"
     ]
    }
   ],
   "source": [
    "# Accessing items in dictionary\n",
    "dic={\n",
    "    'NAME':'MAIN.J',\n",
    "    'AGE':22,\n",
    "    'UNIVERSITY':'MKU',\n",
    "    'COURSE':'BSS'\n",
    "}\n",
    "x=dic['UNIVERSITY']\n",
    "print(x)"
   ]
  },
  {
   "cell_type": "code",
   "execution_count": 6,
   "id": "53bc9180",
   "metadata": {},
   "outputs": [
    {
     "name": "stdout",
     "output_type": "stream",
     "text": [
      "{'NAME': ['ALI.M', 'MUSA.K', 'FATMA.I'], 'AGE': [23, 45, 21], 'UNIVERSITY': ['MKU', 'KU', 'UON'], 'COURSE': ['BSS', 'BIT', 'BCOM']}\n"
     ]
    }
   ],
   "source": [
    "# example 2\n",
    "# keys; name,age,university and course while values the names of person his age, university they attended and course they took\n",
    "dic={\n",
    "    'NAME':['ALI.M','MUSA.K','FATMA.I'],\n",
    "    'AGE':[23,45,21],\n",
    "    'UNIVERSITY':['MKU','KU','UON'],\n",
    "    'COURSE':['BSS','BIT','BCOM']\n",
    "}\n",
    "print(dic)"
   ]
  },
  {
   "cell_type": "markdown",
   "id": "e758b769",
   "metadata": {},
   "source": [
    "ACCESSING VALUES IN DICTIONARY"
   ]
  },
  {
   "cell_type": "code",
   "execution_count": 7,
   "id": "97cb2334",
   "metadata": {},
   "outputs": [
    {
     "name": "stdout",
     "output_type": "stream",
     "text": [
      "[23, 45, 21]\n"
     ]
    }
   ],
   "source": [
    "# to acces values in dictionary use square brackets []\n",
    "dic={\n",
    "    'NAME':['ALI.M','MUSA.K','FATMA.I'],\n",
    "    'AGE':[23,45,21],\n",
    "    'UNIVERSITY':['MKU','KU','UON'],\n",
    "    'COURSE':['BSS','BIT','BCOM']\n",
    "}\n",
    "print(dic['AGE'])"
   ]
  },
  {
   "cell_type": "code",
   "execution_count": 8,
   "id": "9122985c",
   "metadata": {},
   "outputs": [
    {
     "data": {
      "text/plain": [
       "23"
      ]
     },
     "execution_count": 8,
     "metadata": {},
     "output_type": "execute_result"
    }
   ],
   "source": [
    "# let access the age of the second person\n",
    "age_fp=dic['AGE'][0]\n",
    "age_fp"
   ]
  },
  {
   "cell_type": "code",
   "execution_count": 9,
   "id": "3994d1a2",
   "metadata": {},
   "outputs": [],
   "source": [
    "# let get course of 2nd person\n",
    "course_2p=dic['COURSE'][1]"
   ]
  },
  {
   "cell_type": "code",
   "execution_count": 10,
   "id": "77c3b2e8",
   "metadata": {
    "scrolled": true
   },
   "outputs": [
    {
     "data": {
      "text/plain": [
       "'BIT'"
      ]
     },
     "execution_count": 10,
     "metadata": {},
     "output_type": "execute_result"
    }
   ],
   "source": [
    "course_2p"
   ]
  },
  {
   "cell_type": "code",
   "execution_count": 11,
   "id": "4e5060b6",
   "metadata": {},
   "outputs": [
    {
     "name": "stdout",
     "output_type": "stream",
     "text": [
      "['ALI.M', 'MUSA.K', 'FATMA.I']\n"
     ]
    }
   ],
   "source": [
    "# accessing items in a dictionary\n",
    "x=dic['NAME']\n",
    "print(x)"
   ]
  },
  {
   "cell_type": "markdown",
   "id": "b158f40e",
   "metadata": {},
   "source": [
    "MODIFYING VALUES IN DICTIONARY"
   ]
  },
  {
   "cell_type": "markdown",
   "id": "4917b0ff",
   "metadata": {},
   "source": [
    "This can be done assigning a new value to the key you wish to modify\n"
   ]
  },
  {
   "cell_type": "code",
   "execution_count": 12,
   "id": "7e6a0e90",
   "metadata": {},
   "outputs": [
    {
     "name": "stdout",
     "output_type": "stream",
     "text": [
      "{'NAME': ['ALI.M', 'MUSA.K', 'FATMA.I'], 'AGE': [23, 45, 21], 'UNIVERSITY': ['MKU', 'JKUAT', 'UON'], 'COURSE': ['BSS', 'BIT', 'BCOM']}\n"
     ]
    }
   ],
   "source": [
    "dic={\n",
    "    'NAME':['ALI.M','MUSA.K','FATMA.I'],\n",
    "    'AGE':[23,45,21],\n",
    "    'UNIVERSITY':['MKU','KU','UON'],\n",
    "    'COURSE':['BSS','BIT','BCOM']\n",
    "}\n",
    "# modifying university of the second person in our dictionary\n",
    "dic['UNIVERSITY'][1]='JKUAT'\n",
    "print(dic)"
   ]
  },
  {
   "cell_type": "markdown",
   "id": "d3ec55ba",
   "metadata": {},
   "source": [
    "ADDING KEY-VALUES PAIRS"
   ]
  },
  {
   "cell_type": "markdown",
   "id": "63e241c9",
   "metadata": {},
   "source": [
    "To add values in dictionary just asign value to key e.g"
   ]
  },
  {
   "cell_type": "code",
   "execution_count": 13,
   "id": "27c64591",
   "metadata": {},
   "outputs": [
    {
     "name": "stdout",
     "output_type": "stream",
     "text": [
      "{'NAME': ['ALI.M', 'MUSA.K', 'FATMA.I'], 'AGE': [23, 45, 21], 'UNIVERSITY': ['MKU', 'KU', 'UON'], 'COURSE': ['BSS', 'BIT', 'BCOM'], 'email': ['ali78@gmail.com', 'Musa3@gmail.com', 'Fatma@gmail.com']}\n"
     ]
    }
   ],
   "source": [
    "# let add key-values pairs in this dictionary e.g email\n",
    "dic={\n",
    "    'NAME':['ALI.M','MUSA.K','FATMA.I'],\n",
    "    'AGE':[23,45,21],\n",
    "    'UNIVERSITY':['MKU','KU','UON'],\n",
    "    'COURSE':['BSS','BIT','BCOM']\n",
    "}\n",
    "\n",
    "dic[\"email\"] = [\"ali78@gmail.com\",\"Musa3@gmail.com\",\"Fatma@gmail.com\"]\n",
    "print(dic)\n"
   ]
  },
  {
   "cell_type": "code",
   "execution_count": null,
   "id": "437f1a15",
   "metadata": {},
   "outputs": [],
   "source": []
  }
 ],
 "metadata": {
  "kernelspec": {
   "display_name": "Python 3 (ipykernel)",
   "language": "python",
   "name": "python3"
  },
  "language_info": {
   "codemirror_mode": {
    "name": "ipython",
    "version": 3
   },
   "file_extension": ".py",
   "mimetype": "text/x-python",
   "name": "python",
   "nbconvert_exporter": "python",
   "pygments_lexer": "ipython3",
   "version": "3.11.5"
  }
 },
 "nbformat": 4,
 "nbformat_minor": 5
}
